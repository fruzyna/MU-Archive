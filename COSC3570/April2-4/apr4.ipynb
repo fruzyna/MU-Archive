{
 "cells": [
  {
   "cell_type": "code",
   "execution_count": 4,
   "metadata": {
    "scrolled": true
   },
   "outputs": [
    {
     "data": {
      "text/html": [
       "<div>\n",
       "<style scoped>\n",
       "    .dataframe tbody tr th:only-of-type {\n",
       "        vertical-align: middle;\n",
       "    }\n",
       "\n",
       "    .dataframe tbody tr th {\n",
       "        vertical-align: top;\n",
       "    }\n",
       "\n",
       "    .dataframe thead th {\n",
       "        text-align: right;\n",
       "    }\n",
       "</style>\n",
       "<table border=\"1\" class=\"dataframe\">\n",
       "  <thead>\n",
       "    <tr style=\"text-align: right;\">\n",
       "      <th></th>\n",
       "      <th>House</th>\n",
       "      <th>Taxes</th>\n",
       "      <th>Bedrooms</th>\n",
       "      <th>Baths</th>\n",
       "      <th>Quadrant</th>\n",
       "      <th>NW</th>\n",
       "      <th>Price</th>\n",
       "      <th>Size</th>\n",
       "      <th>Lot</th>\n",
       "    </tr>\n",
       "  </thead>\n",
       "  <tbody>\n",
       "    <tr>\n",
       "      <th>0</th>\n",
       "      <td>1</td>\n",
       "      <td>1360</td>\n",
       "      <td>3</td>\n",
       "      <td>2.0</td>\n",
       "      <td>NW</td>\n",
       "      <td>1</td>\n",
       "      <td>145000</td>\n",
       "      <td>1240</td>\n",
       "      <td>18000</td>\n",
       "    </tr>\n",
       "    <tr>\n",
       "      <th>1</th>\n",
       "      <td>2</td>\n",
       "      <td>1050</td>\n",
       "      <td>1</td>\n",
       "      <td>1.0</td>\n",
       "      <td>NW</td>\n",
       "      <td>1</td>\n",
       "      <td>68000</td>\n",
       "      <td>370</td>\n",
       "      <td>25000</td>\n",
       "    </tr>\n",
       "    <tr>\n",
       "      <th>2</th>\n",
       "      <td>3</td>\n",
       "      <td>1010</td>\n",
       "      <td>3</td>\n",
       "      <td>1.5</td>\n",
       "      <td>NW</td>\n",
       "      <td>1</td>\n",
       "      <td>115000</td>\n",
       "      <td>1130</td>\n",
       "      <td>25000</td>\n",
       "    </tr>\n",
       "    <tr>\n",
       "      <th>3</th>\n",
       "      <td>4</td>\n",
       "      <td>830</td>\n",
       "      <td>3</td>\n",
       "      <td>2.0</td>\n",
       "      <td>SW</td>\n",
       "      <td>0</td>\n",
       "      <td>69000</td>\n",
       "      <td>1120</td>\n",
       "      <td>17000</td>\n",
       "    </tr>\n",
       "    <tr>\n",
       "      <th>4</th>\n",
       "      <td>5</td>\n",
       "      <td>2150</td>\n",
       "      <td>3</td>\n",
       "      <td>2.0</td>\n",
       "      <td>NW</td>\n",
       "      <td>1</td>\n",
       "      <td>163000</td>\n",
       "      <td>1710</td>\n",
       "      <td>14000</td>\n",
       "    </tr>\n",
       "  </tbody>\n",
       "</table>\n",
       "</div>"
      ],
      "text/plain": [
       "   House  Taxes  Bedrooms  Baths Quadrant  NW   Price  Size    Lot\n",
       "0      1   1360         3    2.0       NW   1  145000  1240  18000\n",
       "1      2   1050         1    1.0       NW   1   68000   370  25000\n",
       "2      3   1010         3    1.5       NW   1  115000  1130  25000\n",
       "3      4    830         3    2.0       SW   0   69000  1120  17000\n",
       "4      5   2150         3    2.0       NW   1  163000  1710  14000"
      ]
     },
     "execution_count": 4,
     "metadata": {},
     "output_type": "execute_result"
    }
   ],
   "source": [
    "import pandas as pd\n",
    "import seaborn as sns\n",
    "sns.set(color_codes=True)\n",
    "df = pd.read_table('house_selling_prices.txt')\n",
    "df.head()"
   ]
  },
  {
   "cell_type": "code",
   "execution_count": 5,
   "metadata": {
    "scrolled": false
   },
   "outputs": [
    {
     "data": {
      "text/plain": [
       "count       100.000000\n",
       "mean     126698.000000\n",
       "std       56356.774718\n",
       "min       21000.000000\n",
       "25%       86875.000000\n",
       "50%      123750.000000\n",
       "75%      153075.000000\n",
       "max      338000.000000\n",
       "Name: Price, dtype: float64"
      ]
     },
     "execution_count": 5,
     "metadata": {},
     "output_type": "execute_result"
    }
   ],
   "source": [
    "# Continous/Count Summary Stats\n",
    "df['Price'].describe()\n",
    "# fairly normal b/c mean and median are close"
   ]
  },
  {
   "cell_type": "code",
   "execution_count": 6,
   "metadata": {},
   "outputs": [
    {
     "data": {
      "text/plain": [
       "<matplotlib.axes._subplots.AxesSubplot at 0x7ff501c63c50>"
      ]
     },
     "execution_count": 6,
     "metadata": {},
     "output_type": "execute_result"
    },
    {
     "data": {
      "image/png": "[encoded data removed]",
      "text/plain": [
       "<matplotlib.figure.Figure at 0x7ff501c63160>"
      ]
     },
     "metadata": {},
     "output_type": "display_data"
    }
   ],
   "source": [
    "# Nominal/Ordinal Data Summary Stats\n",
    "bedroom_count = df['Bedrooms'].value_counts()\n",
    "sns.countplot(df['Bedrooms']) # counts and plots"
   ]
  },
  {
   "cell_type": "code",
   "execution_count": 7,
   "metadata": {},
   "outputs": [
    {
     "data": {
      "text/plain": [
       "<matplotlib.axes._subplots.AxesSubplot at 0x7ff501c632e8>"
      ]
     },
     "execution_count": 7,
     "metadata": {},
     "output_type": "execute_result"
    },
    {
     "data": {
      "image/png": "[encoded data removed]",
      "text/plain": [
       "<matplotlib.figure.Figure at 0x7ff4ffbe0588>"
      ]
     },
     "metadata": {},
     "output_type": "display_data"
    }
   ],
   "source": [
    "sns.countplot(df['Baths'])"
   ]
  },
  {
   "cell_type": "code",
   "execution_count": 8,
   "metadata": {},
   "outputs": [
    {
     "name": "stderr",
     "output_type": "stream",
     "text": [
      "/usr/local/lib64/python3.6/site-packages/statsmodels/compat/pandas.py:56: FutureWarning: The pandas.core.datetools module is deprecated and will be removed in a future version. Please use the pandas.tseries module instead.\n",
      "  from pandas.core import datetools\n"
     ]
    },
    {
     "name": "stdout",
     "output_type": "stream",
     "text": [
      "                            OLS Regression Results                            \n",
      "==============================================================================\n",
      "Dep. Variable:                  Taxes   R-squared:                       0.913\n",
      "Model:                            OLS   Adj. R-squared:                  0.912\n",
      "Method:                 Least Squares   F-statistic:                     1036.\n",
      "Date:                Wed, 11 Apr 2018   Prob (F-statistic):           3.07e-54\n",
      "Time:                        15:25:50   Log-Likelihood:                -777.35\n",
      "No. Observations:                 100   AIC:                             1557.\n",
      "Df Residuals:                      99   BIC:                             1559.\n",
      "Df Model:                           1                                         \n",
      "Covariance Type:            nonrobust                                         \n",
      "==============================================================================\n",
      "                 coef    std err          t      P>|t|      [0.025      0.975]\n",
      "------------------------------------------------------------------------------\n",
      "Price          0.0134      0.000     32.184      0.000       0.013       0.014\n",
      "==============================================================================\n",
      "Omnibus:                        8.945   Durbin-Watson:                   1.994\n",
      "Prob(Omnibus):                  0.011   Jarque-Bera (JB):                9.362\n",
      "Skew:                           0.564   Prob(JB):                      0.00927\n",
      "Kurtosis:                       3.987   Cond. No.                         1.00\n",
      "==============================================================================\n",
      "\n",
      "Warnings:\n",
      "[1] Standard Errors assume that the covariance matrix of the errors is correctly specified.\n"
     ]
    }
   ],
   "source": [
    "# OLS Regression Results\n",
    "import statsmodels.api as sm\n",
    "\n",
    "X = df['Price']\n",
    "Y = df['Taxes']\n",
    "\n",
    "model = sm.OLS(Y,X).fit()\n",
    "print(model.summary())"
   ]
  },
  {
   "cell_type": "code",
   "execution_count": 9,
   "metadata": {},
   "outputs": [
    {
     "name": "stdout",
     "output_type": "stream",
     "text": [
      "                            OLS Regression Results                            \n",
      "==============================================================================\n",
      "Dep. Variable:                  Price   R-squared:                       0.962\n",
      "Model:                            OLS   Adj. R-squared:                  0.960\n",
      "Method:                 Least Squares   F-statistic:                     475.7\n",
      "Date:                Wed, 11 Apr 2018   Prob (F-statistic):           1.39e-65\n",
      "Time:                        15:25:50   Log-Likelihood:                -1162.8\n",
      "No. Observations:                 100   AIC:                             2336.\n",
      "Df Residuals:                      95   BIC:                             2349.\n",
      "Df Model:                           5                                         \n",
      "Covariance Type:            nonrobust                                         \n",
      "==============================================================================\n",
      "                 coef    std err          t      P>|t|      [0.025      0.975]\n",
      "------------------------------------------------------------------------------\n",
      "Bedrooms   -5084.7061   4141.321     -1.228      0.223   -1.33e+04    3136.855\n",
      "Taxes         19.8608      4.891      4.061      0.000      10.151      29.571\n",
      "Baths       1.309e+04   6634.636      1.974      0.051     -76.734    2.63e+04\n",
      "Size          33.2403      8.817      3.770      0.000      15.737      50.744\n",
      "Lot            1.7036      0.447      3.813      0.000       0.817       2.591\n",
      "==============================================================================\n",
      "Omnibus:                        8.534   Durbin-Watson:                   1.999\n",
      "Prob(Omnibus):                  0.014   Jarque-Bera (JB):               10.857\n",
      "Skew:                          -0.430   Prob(JB):                      0.00439\n",
      "Kurtosis:                       4.366   Cond. No.                     5.46e+04\n",
      "==============================================================================\n",
      "\n",
      "Warnings:\n",
      "[1] Standard Errors assume that the covariance matrix of the errors is correctly specified.\n",
      "[2] The condition number is large, 5.46e+04. This might indicate that there are\n",
      "strong multicollinearity or other numerical problems.\n"
     ]
    }
   ],
   "source": [
    "Y = df['Price']\n",
    "X = df[['Bedrooms', 'Taxes', 'Baths', 'Size', 'Lot']]\n",
    "\n",
    "model = sm.OLS(Y,X).fit()\n",
    "print(model.summary())\n",
    "# 96% of the variance can be described by this model\n",
    "# The currated model and ours are statistically indistinguishable e-65"
   ]
  },
  {
   "cell_type": "code",
   "execution_count": null,
   "metadata": {},
   "outputs": [],
   "source": []
  }
 ],
 "metadata": {
  "kernelspec": {
   "display_name": "Python 3",
   "language": "python",
   "name": "python3"
  },
  "language_info": {
   "codemirror_mode": {
    "name": "ipython",
    "version": 3
   },
   "file_extension": ".py",
   "mimetype": "text/x-python",
   "name": "python",
   "nbconvert_exporter": "python",
   "pygments_lexer": "ipython3",
   "version": "3.6.4"
  }
 },
 "nbformat": 4,
 "nbformat_minor": 2
}
