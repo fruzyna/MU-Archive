{
 "cells": [
  {
   "cell_type": "code",
   "execution_count": 2,
   "metadata": {},
   "outputs": [
    {
     "name": "stderr",
     "output_type": "stream",
     "text": [
      "/usr/local/lib64/python3.6/site-packages/statsmodels/compat/pandas.py:56: FutureWarning: The pandas.core.datetools module is deprecated and will be removed in a future version. Please use the pandas.tseries module instead.\n",
      "  from pandas.core import datetools\n"
     ]
    },
    {
     "name": "stdout",
     "output_type": "stream",
     "text": [
      "                            OLS Regression Results                            \n",
      "==============================================================================\n",
      "Dep. Variable:                  Taxes   R-squared:                       0.913\n",
      "Model:                            OLS   Adj. R-squared:                  0.912\n",
      "Method:                 Least Squares   F-statistic:                     1036.\n",
      "Date:                Wed, 11 Apr 2018   Prob (F-statistic):           3.07e-54\n",
      "Time:                        15:53:51   Log-Likelihood:                -777.35\n",
      "No. Observations:                 100   AIC:                             1557.\n",
      "Df Residuals:                      99   BIC:                             1559.\n",
      "Df Model:                           1                                         \n",
      "Covariance Type:            nonrobust                                         \n",
      "==============================================================================\n",
      "                 coef    std err          t      P>|t|      [0.025      0.975]\n",
      "------------------------------------------------------------------------------\n",
      "Price          0.0134      0.000     32.184      0.000       0.013       0.014\n",
      "==============================================================================\n",
      "Omnibus:                        8.945   Durbin-Watson:                   1.994\n",
      "Prob(Omnibus):                  0.011   Jarque-Bera (JB):                9.362\n",
      "Skew:                           0.564   Prob(JB):                      0.00927\n",
      "Kurtosis:                       3.987   Cond. No.                         1.00\n",
      "==============================================================================\n",
      "\n",
      "Warnings:\n",
      "[1] Standard Errors assume that the covariance matrix of the errors is correctly specified.\n",
      "                            OLS Regression Results                            \n",
      "==============================================================================\n",
      "Dep. Variable:                  Price   R-squared:                       0.962\n",
      "Model:                            OLS   Adj. R-squared:                  0.960\n",
      "Method:                 Least Squares   F-statistic:                     475.7\n",
      "Date:                Wed, 11 Apr 2018   Prob (F-statistic):           1.39e-65\n",
      "Time:                        15:53:51   Log-Likelihood:                -1162.8\n",
      "No. Observations:                 100   AIC:                             2336.\n",
      "Df Residuals:                      95   BIC:                             2349.\n",
      "Df Model:                           5                                         \n",
      "Covariance Type:            nonrobust                                         \n",
      "==============================================================================\n",
      "                 coef    std err          t      P>|t|      [0.025      0.975]\n",
      "------------------------------------------------------------------------------\n",
      "Bedrooms   -5084.7061   4141.321     -1.228      0.223   -1.33e+04    3136.855\n",
      "Taxes         19.8608      4.891      4.061      0.000      10.151      29.571\n",
      "Baths       1.309e+04   6634.636      1.974      0.051     -76.734    2.63e+04\n",
      "Size          33.2403      8.817      3.770      0.000      15.737      50.744\n",
      "Lot            1.7036      0.447      3.813      0.000       0.817       2.591\n",
      "==============================================================================\n",
      "Omnibus:                        8.534   Durbin-Watson:                   1.999\n",
      "Prob(Omnibus):                  0.014   Jarque-Bera (JB):               10.857\n",
      "Skew:                          -0.430   Prob(JB):                      0.00439\n",
      "Kurtosis:                       4.366   Cond. No.                     5.46e+04\n",
      "==============================================================================\n",
      "\n",
      "Warnings:\n",
      "[1] Standard Errors assume that the covariance matrix of the errors is correctly specified.\n",
      "[2] The condition number is large, 5.46e+04. This might indicate that there are\n",
      "strong multicollinearity or other numerical problems.\n"
     ]
    },
    {
     "data": {
      "image/png": "[encoded data removed]",
      "text/plain": [
       "<matplotlib.figure.Figure at 0x7fa28eb39d68>"
      ]
     },
     "metadata": {},
     "output_type": "display_data"
    }
   ],
   "source": [
    "# Running of April 4th notes\n",
    "\n",
    "import pandas as pd\n",
    "import seaborn as sns\n",
    "sns.set(color_codes=True)\n",
    "df = pd.read_table('../April2-4/house_selling_prices.txt')\n",
    "df.head()\n",
    "\n",
    "# Continous/Count Summary Stats\n",
    "df['Price'].describe()\n",
    "# fairly normal b/c mean and median are close\n",
    "\n",
    "# Nominal/Ordinal Data Summary Stats\n",
    "bedroom_count = df['Bedrooms'].value_counts()\n",
    "sns.countplot(df['Bedrooms']) # counts and plots\n",
    "\n",
    "sns.countplot(df['Baths'])\n",
    "\n",
    "# OLS Regression Results\n",
    "import statsmodels.api as sm\n",
    "\n",
    "X = df['Price']\n",
    "Y = df['Taxes']\n",
    "\n",
    "model = sm.OLS(Y,X).fit()\n",
    "print(model.summary())\n",
    "\n",
    "Y = df['Price']\n",
    "X = df[['Bedrooms', 'Taxes', 'Baths', 'Size', 'Lot']]\n",
    "\n",
    "model = sm.OLS(Y,X).fit()\n",
    "print(model.summary())\n",
    "# 96% of the variance can be described by this model\n",
    "# The currated model and ours are statistically indistinguishable e-65"
   ]
  },
  {
   "cell_type": "code",
   "execution_count": 3,
   "metadata": {},
   "outputs": [
    {
     "data": {
      "image/png": "[encoded data removed]",
      "text/plain": [
       "<matplotlib.figure.Figure at 0x7fa28eb39438>"
      ]
     },
     "metadata": {},
     "output_type": "display_data"
    },
    {
     "data": {
      "text/plain": [
       "<matplotlib.figure.Figure at 0x7fa28eb39390>"
      ]
     },
     "metadata": {},
     "output_type": "display_data"
    }
   ],
   "source": [
    "# April 11\n",
    "import matplotlib.pyplot as plt\n",
    "plt.plot(X, model.fittedvalues, 'o')\n",
    "plt.figure(figsize=(20,10))\n",
    "plt.show()"
   ]
  },
  {
   "cell_type": "code",
   "execution_count": null,
   "metadata": {},
   "outputs": [],
   "source": [
    "plt.plot(X, model.fittedvalues, 'o')\n",
    "plt.figure(figsize=(20,10))\n",
    "plt.show()"
   ]
  },
  {
   "cell_type": "code",
   "execution_count": 4,
   "metadata": {},
   "outputs": [
    {
     "ename": "NameError",
     "evalue": "name 'predictions' is not defined",
     "output_type": "error",
     "traceback": [
      "\u001b[0;31m---------------------------------------------------------------------------\u001b[0m",
      "\u001b[0;31mNameError\u001b[0m                                 Traceback (most recent call last)",
      "\u001b[0;32m<ipython-input-4-eed8db0105d7>\u001b[0m in \u001b[0;36m<module>\u001b[0;34m()\u001b[0m\n\u001b[0;32m----> 1\u001b[0;31m \u001b[0;34m[\u001b[0m\u001b[0mpredictions\u001b[0m\u001b[0;34m.\u001b[0m\u001b[0mhead\u001b[0m\u001b[0;34m(\u001b[0m\u001b[0;34m)\u001b[0m\u001b[0;34m,\u001b[0m \u001b[0mdf\u001b[0m\u001b[0;34m[\u001b[0m\u001b[0;34m'Price'\u001b[0m\u001b[0;34m]\u001b[0m\u001b[0;34m.\u001b[0m\u001b[0mhead\u001b[0m\u001b[0;34m(\u001b[0m\u001b[0;34m)\u001b[0m\u001b[0;34m]\u001b[0m\u001b[0;34m\u001b[0m\u001b[0m\n\u001b[0m",
      "\u001b[0;31mNameError\u001b[0m: name 'predictions' is not defined"
     ]
    }
   ],
   "source": [
    "# Compare actual values to model predictions\n",
    "[predictions.head(), df['Price'].head()]"
   ]
  },
  {
   "cell_type": "code",
   "execution_count": null,
   "metadata": {},
   "outputs": [],
   "source": []
  }
 ],
 "metadata": {
  "kernelspec": {
   "display_name": "Python 3",
   "language": "python",
   "name": "python3"
  },
  "language_info": {
   "codemirror_mode": {
    "name": "ipython",
    "version": 3
   },
   "file_extension": ".py",
   "mimetype": "text/x-python",
   "name": "python",
   "nbconvert_exporter": "python",
   "pygments_lexer": "ipython3",
   "version": "3.6.4"
  }
 },
 "nbformat": 4,
 "nbformat_minor": 2
}
