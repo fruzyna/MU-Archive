{
 "cells": [
  {
   "cell_type": "code",
   "execution_count": null,
   "metadata": {},
   "outputs": [],
   "source": [
    "# Not even bothering basing this off the past notes anymore, but resuming April 16"
   ]
  },
  {
   "cell_type": "code",
   "execution_count": null,
   "metadata": {},
   "outputs": [],
   "source": [
    "# Normal line graphs don't show the opportunity for uncertainty\n",
    "# Confidence interval or prediction interval show this\n",
    "# Most useful for displaying the results of a model"
   ]
  },
  {
   "cell_type": "code",
   "execution_count": null,
   "metadata": {},
   "outputs": [],
   "source": [
    "# Get CI (of earch column)\n",
    "model.conf_int(alpha=0.05, cols=None) # 95% confidence"
   ]
  },
  {
   "cell_type": "code",
   "execution_count": null,
   "metadata": {},
   "outputs": [],
   "source": [
    "# Cross Validation\n",
    "from sklearn.cross_validation import cross_val_score, cross_val_predict\n",
    "from sklearn import metrics"
   ]
  },
  {
   "cell_type": "code",
   "execution_count": null,
   "metadata": {},
   "outputs": [],
   "source": [
    "# Peform 10-fold cross validation\n",
    "scores = cross_val_score(model, X, Y, cv=10)\n",
    "print('Cross-validated scores: ', scores)"
   ]
  },
  {
   "cell_type": "code",
   "execution_count": null,
   "metadata": {},
   "outputs": [],
   "source": [
    "print('Accuracy: %0.2f (+/- %0.2f)' %(scores.mean(), scores.std()*2))"
   ]
  },
  {
   "cell_type": "code",
   "execution_count": null,
   "metadata": {},
   "outputs": [],
   "source": [
    "# Make cross validated predictions\n",
    "predictions = cross_val_predict(model, X, Y, cv=10)\n",
    "plt.figure(figsize=(10,10))\n",
    "plt.scatter(Y, predictions)\n",
    "plt.xlabel('Observered Prices')\n",
    "plt.ylabel('Predicted Prices')"
   ]
  },
  {
   "cell_type": "code",
   "execution_count": null,
   "metadata": {},
   "outputs": [],
   "source": [
    "# Get accuracy of predictions\n",
    "accuracy = metrics.r2_score(Y, predictions)\n",
    "print('Cross-Predicted Accuracy: ', accuracy)"
   ]
  }
 ],
 "metadata": {
  "kernelspec": {
   "display_name": "Python 3",
   "language": "python",
   "name": "python3"
  },
  "language_info": {
   "codemirror_mode": {
    "name": "ipython",
    "version": 3
   },
   "file_extension": ".py",
   "mimetype": "text/x-python",
   "name": "python",
   "nbconvert_exporter": "python",
   "pygments_lexer": "ipython3",
   "version": "3.6.5"
  }
 },
 "nbformat": 4,
 "nbformat_minor": 2
}
